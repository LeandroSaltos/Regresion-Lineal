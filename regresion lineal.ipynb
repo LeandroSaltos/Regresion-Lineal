{
 "cells": [
  {
   "cell_type": "markdown",
   "id": "d1c208bf-40c1-421c-8b20-f8a827bb8c1a",
   "metadata": {},
   "source": [
    "# Regresion Lineal con Python (Matemáticas)"
   ]
  },
  {
   "cell_type": "markdown",
   "id": "ed2b744f-5e22-4d0a-a735-fe815f837c53",
   "metadata": {},
   "source": [
    "#### Obtener el mejor ajuste lineal para los siguientes datos: "
   ]
  },
  {
   "cell_type": "code",
   "execution_count": 2,
   "id": "450eebb8-a15c-4968-a38f-11553eb23e28",
   "metadata": {},
   "outputs": [],
   "source": [
    "import numpy as np\n",
    "import matplotlib.pyplot as plt "
   ]
  },
  {
   "cell_type": "markdown",
   "id": "81dd74c0-cfa7-4c08-b220-00cdea898f8a",
   "metadata": {},
   "source": [
    "#### Datos"
   ]
  },
  {
   "cell_type": "code",
   "execution_count": 15,
   "id": "f4eb4092-9e42-4b3a-a535-20c5fcf281d9",
   "metadata": {},
   "outputs": [],
   "source": [
    "x=np.array([1,2,3,4,5,6,7,8,9,10,11,12,13,14,15])\n",
    "y=np.array([1,2,2,4,5,4,6,4,6,7,9,10,11,12,10])"
   ]
  },
  {
   "cell_type": "code",
   "execution_count": 16,
   "id": "22977bd4-2829-4809-9763-4894f14570e2",
   "metadata": {},
   "outputs": [],
   "source": [
    "n=len(x)\n",
    "#x= np.array(x)\n",
    "#y= np.array(y)\n",
    "sumx=sum(x)\n",
    "sumy=sum(y)\n",
    "sumx2=sum(x*x)\n",
    "sumy2=sum(y*y)\n",
    "sumxy=sum(x*y)\n",
    "promx=sumx/n\n",
    "promy=sumy/n"
   ]
  },
  {
   "cell_type": "code",
   "execution_count": 20,
   "id": "b36b7750-f334-4524-99fc-1ff84361108e",
   "metadata": {},
   "outputs": [
    {
     "data": {
      "text/plain": [
       "(0.75, 0.2)"
      ]
     },
     "execution_count": 20,
     "metadata": {},
     "output_type": "execute_result"
    }
   ],
   "source": [
    "m=(sumx*sumy-n*sumxy)/(sumx**2-n*sumx2)\n",
    "b=round(promy-m*promx,3)\n",
    "m,b\n"
   ]
  },
  {
   "cell_type": "code",
   "execution_count": 7,
   "id": "b07a23c0-c42a-44e1-8775-3784cb554dd7",
   "metadata": {},
   "outputs": [
    {
     "data": {
      "text/plain": [
       "0.9216"
      ]
     },
     "execution_count": 18,
     "metadata": {},
     "output_type": "execute_result"
    }
   ],
   "source": [
    "sigmax=np.sqrt(sumx2/n-promx**2)\n",
    "sigmay=np.sqrt(sumy2/n-promy**2)\n",
    "sigmaxy=sumxy/n-promx*promy\n",
    "R2=round(sigmaxy/(sigmax*sigmay),2)**2\n",
    "R2"
   ]
  },
  {
   "cell_type": "code",
   "execution_count": 21,
   "id": "41d35681-0dec-45f6-ae42-bea77c447318",
   "metadata": {},
   "outputs": [
    {
     "data": {
      "image/png": "[encoded data removed]",
      "text/plain": [
       "<Figure size 432x288 with 1 Axes>"
      ]
     },
     "metadata": {
      "needs_background": "light"
     },
     "output_type": "display_data"
    }
   ],
   "source": [
    "plt.plot(x,y,'o',label='Datos')\n",
    "plt.plot(x,m*x+b,label='Ajuste')\n",
    "plt.plot(x,color=\"white\",label='f(x)={}x + {}'.format(m,b)+\"\\n R2={}\".format(R2) )\n",
    "plt.xlabel('x')\n",
    "plt.ylabel('y')\n",
    "plt.title(\"Mi primera regrecion lineal\")\n",
    "plt.grid()\n",
    "plt.legend()\n",
    "plt.show()\n"
   ]
  },
  {
   "cell_type": "code",
   "execution_count": null,
   "id": "945aef9a-228f-4060-b020-2bc4baec3f0c",
   "metadata": {},
   "outputs": [],
   "source": []
  },
  {
   "cell_type": "code",
   "execution_count": null,
   "id": "14d3a8ab-45f4-4866-91b7-591c48fc4965",
   "metadata": {},
   "outputs": [],
   "source": []
  }
 ],
 "metadata": {
  "kernelspec": {
   "display_name": "Python 3 (ipykernel)",
   "language": "python",
   "name": "python3"
  },
  "language_info": {
   "codemirror_mode": {
    "name": "ipython",
    "version": 3
   },
   "file_extension": ".py",
   "mimetype": "text/x-python",
   "name": "python",
   "nbconvert_exporter": "python",
   "pygments_lexer": "ipython3",
   "version": "3.9.12"
  }
 },
 "nbformat": 4,
 "nbformat_minor": 5
}
